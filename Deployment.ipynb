{
  "nbformat": 4,
  "nbformat_minor": 0,
  "metadata": {
    "colab": {
      "provenance": []
    },
    "kernelspec": {
      "name": "python3",
      "display_name": "Python 3"
    },
    "language_info": {
      "name": "python"
    }
  },
  "cells": [
    {
      "cell_type": "code",
      "source": [
        "from google.colab import drive\n",
        "drive.mount('/content/drive')\n"
      ],
      "metadata": {
        "colab": {
          "base_uri": "https://localhost:8080/"
        },
        "id": "I7VGR3UnyTsg",
        "outputId": "9886df80-80a4-4675-ed16-ed1a8bd23bf6"
      },
      "execution_count": null,
      "outputs": [
        {
          "output_type": "stream",
          "name": "stdout",
          "text": [
            "Drive already mounted at /content/drive; to attempt to forcibly remount, call drive.mount(\"/content/drive\", force_remount=True).\n"
          ]
        }
      ]
    },
    {
      "cell_type": "code",
      "execution_count": null,
      "metadata": {
        "id": "PKcAHxXtxgvj",
        "colab": {
          "base_uri": "https://localhost:8080/"
        },
        "outputId": "bab14ec4-8f4f-4099-a6df-1a8d9efb5a4c"
      },
      "outputs": [
        {
          "output_type": "stream",
          "name": "stdout",
          "text": [
            "Accuracy: 0.7333974975938402\n",
            "Precision: 0.442578302315025\n",
            "Recall: 0.8613074204946997\n",
            "F1-score: 0.5847076461769115\n",
            "Confusion Matrix:\n",
            " [[2835 1228]\n",
            " [ 157  975]]\n"
          ]
        }
      ],
      "source": [
        "import joblib\n",
        "import pandas as pd\n",
        "from sklearn.metrics import accuracy_score, precision_score, recall_score, f1_score, confusion_matrix\n",
        "\n",
        "model = joblib.load('credit_risk_model.pkl')\n",
        "X_val = joblib.load('X_val (1).pkl')\n",
        "y_val = joblib.load('y_val (1).pkl')\n",
        "\n",
        "predictions = model.predict(X_val)\n",
        "\n",
        "accuracy = accuracy_score(y_val, predictions)\n",
        "precision = precision_score(y_val, predictions)\n",
        "recall = recall_score(y_val, predictions)\n",
        "f1 = f1_score(y_val, predictions)\n",
        "confusion_mat = confusion_matrix(y_val, predictions)\n",
        "\n",
        "print(\"Accuracy:\", accuracy)\n",
        "print(\"Precision:\", precision)\n",
        "print(\"Recall:\", recall)\n",
        "print(\"F1-score:\", f1)\n",
        "print(\"Confusion Matrix:\\n\", confusion_mat)"
      ]
    }
  ]
}